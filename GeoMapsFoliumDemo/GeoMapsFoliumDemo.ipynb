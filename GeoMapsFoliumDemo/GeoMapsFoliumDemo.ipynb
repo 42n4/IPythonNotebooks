{
 "metadata": {
  "name": "",
  "signature": "sha256:32442770bd1c3f1e990b3ebc70abe35819f9b3071a8f7d937df93524551e99b5"
 },
 "nbformat": 3,
 "nbformat_minor": 0,
 "worksheets": [
  {
   "cells": [
    {
     "cell_type": "heading",
     "level": 1,
     "metadata": {},
     "source": [
      "Using geographic maps using Folium"
     ]
    },
    {
     "cell_type": "markdown",
     "metadata": {},
     "source": [
      "by Rikard Sandstr\u00f6m, rsandstroem@kpmg.com"
     ]
    },
    {
     "cell_type": "heading",
     "level": 2,
     "metadata": {},
     "source": [
      "Getting map data and file formats"
     ]
    },
    {
     "cell_type": "markdown",
     "metadata": {},
     "source": [
      "Using the method described here, you do not need any local map data. The maps are automatically pulled from OpenStreetMap.\n",
      "\n",
      "However, you might want use concepts such as regions, and you need to define them through files containing those geolocations. There are multiple sources of data which is freely available, in this example we are using shape files from this location:\n",
      "http://data.geo.admin.ch.s3.amazonaws.com/ch.swisstopo.swissboundaries3d-kanton-flaeche.fill/data.zip\n",
      "\n",
      "We have provided the shape files we will use for this demonstration, normally you would need to retrieve and unpack the map data.\n",
      "\n",
      "There are many file formats commonly used for maps. In this case what we have are a set of shapefiles. Since we will be working with geojson files in this demonstration you need to convert them to geojson.\n",
      "\n",
      "A sample geojson file has been supplied with this tutorial, but for reference you can create a geojson file from the shape files from a console like this:"
     ]
    },
    {
     "cell_type": "raw",
     "metadata": {},
     "source": [
      "ogr2ogr -f GeoJSON -t_srs EPSG:4326 switzerland.geojson swissBOUNDARIES3D_1_2_TLM_KANTONSGEBIET.shp"
     ]
    },
    {
     "cell_type": "markdown",
     "metadata": {},
     "source": [
      "You now have a map in your local directory, formatted as a geojson file."
     ]
    },
    {
     "cell_type": "heading",
     "level": 1,
     "metadata": {},
     "source": [
      "Set up"
     ]
    },
    {
     "cell_type": "markdown",
     "metadata": {},
     "source": [
      "For this demonstration we need \"folium\". Install it using "
     ]
    },
    {
     "cell_type": "raw",
     "metadata": {},
     "source": [
      "pip install folium"
     ]
    },
    {
     "cell_type": "markdown",
     "metadata": {},
     "source": [
      "or if you are using the Anaconda release that comes with the KAVE you can do "
     ]
    },
    {
     "cell_type": "raw",
     "metadata": {},
     "source": [
      "sudo /opt/anaconda/bin/conda install --channel https://conda.binstar.org/IOOS folium"
     ]
    },
    {
     "cell_type": "markdown",
     "metadata": {},
     "source": [
      "where you can replace the channel with your choise from the options listed by"
     ]
    },
    {
     "cell_type": "raw",
     "metadata": {},
     "source": [
      "binstar search -t conda folium"
     ]
    },
    {
     "cell_type": "code",
     "collapsed": false,
     "input": [
      "from IPython.display import HTML\n",
      "import folium\n",
      "import numpy as np\n",
      "\n",
      "def inline_map(map):\n",
      "    \"\"\"\n",
      "    Embeds the HTML source of the map directly into the IPython notebook.\n",
      "    \n",
      "    This method will not work if the map depends on any files (json data). Also this uses\n",
      "    the HTML5 srcdoc attribute, which may not be supported in all browsers.\n",
      " \n",
      "   \"\"\"\n",
      "    map._build_map()\n",
      "    return HTML('<iframe srcdoc=\"{srcdoc}\" style=\"width: 100%; height: 510px; border: none\"></iframe>'.format(srcdoc=map.HTML.replace('\"', '&quot;')))\n",
      "\n",
      "def embed_map(map, path=\"map.html\"):\n",
      "    \"\"\"\n",
      "    Embeds a linked iframe to the map into the IPython notebook.\n",
      "    \n",
      "    Note: this method will not capture the source of the map into the notebook.\n",
      "    This method should work for all maps (as long as they use relative urls).\n",
      "    \"\"\"\n",
      "    map.create_map(path=path)\n",
      "    return HTML('<iframe src=\"files/{path}\" style=\"width: 100%; height: 510px; border: none\"></iframe>'.format(path=path))"
     ],
     "language": "python",
     "metadata": {},
     "outputs": [],
     "prompt_number": 2
    },
    {
     "cell_type": "heading",
     "level": 2,
     "metadata": {},
     "source": [
      "Display the map"
     ]
    },
    {
     "cell_type": "markdown",
     "metadata": {},
     "source": [
      "First we show the map without any use of the geojson we created from the shapefiles."
     ]
    },
    {
     "cell_type": "code",
     "collapsed": false,
     "input": [
      "kanton_map = folium.Map(location=[46.8, 8.33],\n",
      "                   tiles='Mapbox Bright', zoom_start=7)\n",
      "inline_map(kanton_map)"
     ],
     "language": "python",
     "metadata": {},
     "outputs": [
      {
       "html": [
        "<iframe srcdoc=\"<!DOCTYPE html>\n",
        "<head>\n",
        "   <meta http-equiv=&quot;content-type&quot; content=&quot;text/html; charset=UTF-8&quot; />\n",
        "   <link rel=&quot;stylesheet&quot; href=&quot;//cdnjs.cloudflare.com/ajax/libs/leaflet/0.7.3/leaflet.css&quot; />\n",
        "   <script src=&quot;//cdnjs.cloudflare.com/ajax/libs/leaflet/0.7.3/leaflet.js&quot;></script>\n",
        "\n",
        "   <script src=&quot;//ajax.googleapis.com/ajax/libs/jquery/1.11.1/jquery.min.js&quot;></script>\n",
        "\n",
        "   <link rel=&quot;stylesheet&quot; href=&quot;//maxcdn.bootstrapcdn.com/bootstrap/3.2.0/css/bootstrap.min.css&quot;>\n",
        "   <link rel=&quot;stylesheet&quot; href=&quot;//maxcdn.bootstrapcdn.com/bootstrap/3.2.0/css/bootstrap-theme.min.css&quot;>\n",
        "   <script src=&quot;//maxcdn.bootstrapcdn.com/bootstrap/3.2.0/js/bootstrap.min.js&quot;></script>\n",
        "\n",
        "   <link href=&quot;//maxcdn.bootstrapcdn.com/font-awesome/4.1.0/css/font-awesome.min.css&quot; rel=&quot;stylesheet&quot;>\n",
        "\n",
        "   <link rel=&quot;stylesheet&quot; href=&quot;//rawgit.com/lvoogdt/Leaflet.awesome-markers/2.0/develop/dist/leaflet.awesome-markers.css&quot;>\n",
        "   <script src=&quot;//rawgithub.com/lvoogdt/Leaflet.awesome-markers/2.0/develop/dist/leaflet.awesome-markers.js&quot;></script>\n",
        "\n",
        "\n",
        "   <link rel=&quot;stylesheet&quot; href=&quot;//cdnjs.cloudflare.com/ajax/libs/leaflet.markercluster/0.4.0/MarkerCluster.Default.css&quot;>\n",
        "   <link rel=&quot;stylesheet&quot; href=&quot;//cdnjs.cloudflare.com/ajax/libs/leaflet.markercluster/0.4.0/MarkerCluster.css&quot;>\n",
        "   <script src=&quot;//cdnjs.cloudflare.com/ajax/libs/leaflet.markercluster/0.4.0/leaflet.markercluster-src.js&quot;></script>\n",
        "   <script src=&quot;//cdnjs.cloudflare.com/ajax/libs/leaflet.markercluster/0.4.0/leaflet.markercluster.js&quot;></script>\n",
        "\n",
        "   <link rel=&quot;stylesheet&quot; href=&quot;//birdage.github.io/Leaflet.awesome-markers/dist/leaflet.awesome.rotate.css&quot;>\n",
        "\n",
        "   \n",
        "   \n",
        "   \n",
        "   \n",
        "\n",
        "   <style>\n",
        "\n",
        "      html, body {\n",
        "        width: 100%;\n",
        "        height: 100%;\n",
        "        margin: 0;\n",
        "        padding: 0;\n",
        "      }\n",
        "\n",
        "      #map {\n",
        "        position:absolute;\n",
        "        top:0;\n",
        "        bottom:0;\n",
        "        right:0;\n",
        "        left:0;\n",
        "      }\n",
        "\n",
        "   </style>\n",
        "</head>\n",
        "\n",
        "<body>\n",
        "\n",
        "   <div class=&quot;folium-map&quot; id=&quot;folium_204e275bcda346df9a7cb5496b1c8b67&quot; style=&quot;width: 960px; height: 500px&quot;></div>\n",
        "\n",
        "   <script>\n",
        "\n",
        "      \n",
        "\n",
        "      var base_tile = L.tileLayer('http://{s}.tiles.mapbox.com/v3/mapbox.world-bright/{z}/{x}/{y}.png', {\n",
        "          maxZoom: 18,\n",
        "          minZoom: 1,\n",
        "          attribution: 'Map tiles by <a href=&quot;http://www.mapbox.com/m&quot;>Mapbox</a> Data by <a href=&quot;http://openstreetmap.org&quot;>OpenStreetMap</a>, under <a href=&quot;http://creativecommons.org/licenses/by-sa/3.0&quot;>CC BY SA</a>.'\n",
        "      });\n",
        "\n",
        "      var baseLayer = {\n",
        "        &quot;Base Layer&quot;: base_tile\n",
        "      };\n",
        "\n",
        "      /*\n",
        "      addition of the wms layers\n",
        "      */\n",
        "\n",
        "      \n",
        "\n",
        "      /*\n",
        "      addition of the tile layers\n",
        "      */\n",
        "      \n",
        "\n",
        "      /*\n",
        "      list of layers to be added\n",
        "      */\n",
        "      var layer_list = {\n",
        "      \n",
        "      };\n",
        "\n",
        "      /*\n",
        "      Bounding box.\n",
        "      */\n",
        "      var southWest = L.latLng(-90, -180),\n",
        "          northEast = L.latLng(90, 180),\n",
        "          bounds = L.latLngBounds(southWest, northEast);\n",
        "\n",
        "      /*\n",
        "      Creates the map and adds the selected layers\n",
        "      */\n",
        "      var map = L.map('folium_204e275bcda346df9a7cb5496b1c8b67', {\n",
        "                                       center:[46.8, 8.33],\n",
        "                                       zoom: 7,\n",
        "                                       maxBounds: bounds,\n",
        "                                       layers: [base_tile]\n",
        "                                     });\n",
        "\n",
        "      L.control.layers(baseLayer, layer_list).addTo(map);\n",
        "\n",
        "      //cluster group\n",
        "      var clusteredmarkers = L.markerClusterGroup();\n",
        "      //section for adding clustered markers\n",
        "      \n",
        "      //add the clustered markers to the group anyway\n",
        "      map.addLayer(clusteredmarkers);\n",
        "\n",
        "      \n",
        "\n",
        "      \n",
        "\n",
        "      \n",
        "\n",
        "      \n",
        "\n",
        "      \n",
        "\n",
        "      \n",
        "\n",
        "   </script>\n",
        "\n",
        "</body>\" style=\"width: 100%; height: 510px; border: none\"></iframe>"
       ],
       "metadata": {},
       "output_type": "pyout",
       "prompt_number": 11,
       "text": [
        "<IPython.core.display.HTML at 0x7f9416f04390>"
       ]
      }
     ],
     "prompt_number": 11
    },
    {
     "cell_type": "markdown",
     "metadata": {},
     "source": [
      "You should now see an map of Switzerland with surrounding countries and cities. \n",
      "Next, display an OpenStreetMap and overlay the cantons of Switzerland on top"
     ]
    },
    {
     "cell_type": "code",
     "collapsed": false,
     "input": [
      "kanton_map.geo_json(geo_path='switzerland.geojson')\n",
      "inline_map(kanton_map)"
     ],
     "language": "python",
     "metadata": {},
     "outputs": [
      {
       "html": [
        "<iframe srcdoc=\"<!DOCTYPE html>\n",
        "<head>\n",
        "   <meta http-equiv=&quot;content-type&quot; content=&quot;text/html; charset=UTF-8&quot; />\n",
        "   <link rel=&quot;stylesheet&quot; href=&quot;//cdnjs.cloudflare.com/ajax/libs/leaflet/0.7.3/leaflet.css&quot; />\n",
        "   <script src=&quot;//cdnjs.cloudflare.com/ajax/libs/leaflet/0.7.3/leaflet.js&quot;></script>\n",
        "   <script src=&quot;//cdnjs.cloudflare.com/ajax/libs/d3/3.5.5/d3.min.js&quot; charset=&quot;utf-8&quot;></script>\n",
        "   <script src=&quot;//cdnjs.cloudflare.com/ajax/libs/queue-async/1.0.7/queue.min.js&quot;></script>\n",
        "\n",
        "   \n",
        "   \n",
        "   \n",
        "   \n",
        "\n",
        "   <style>\n",
        "\n",
        "      html, body {\n",
        "        width: 100%;\n",
        "        height: 100%;\n",
        "        margin: 0;\n",
        "        padding: 0;\n",
        "      }\n",
        "\n",
        "      .legend {\n",
        "          padding: 0px 0px;\n",
        "          font: 10px sans-serif;\n",
        "          background: white;\n",
        "          background: rgba(255,255,255,0.8);\n",
        "          box-shadow: 0 0 15px rgba(0,0,0,0.2);\n",
        "          border-radius: 5px;\n",
        "      }\n",
        "\n",
        "      .key path {\n",
        "        display: none;\n",
        "      }\n",
        "\n",
        "   </style>\n",
        "</head>\n",
        "\n",
        "<body>\n",
        "\n",
        "   <div id=&quot;map&quot; style=&quot;width: 960px; height: 500px&quot;></div>\n",
        "\n",
        "   <script>\n",
        "\n",
        "      queue()\n",
        "          .defer(d3.json, 'switzerland.geojson')\n",
        "          .await(makeMap)\n",
        "\n",
        "      function makeMap(error, gjson_1) {\n",
        "\n",
        "          \n",
        "\n",
        "          \n",
        "\n",
        "          function matchKey(datapoint, key_variable){\n",
        "              if (typeof key_variable[0][datapoint] === 'undefined') {\n",
        "                  return null;\n",
        "              }\n",
        "              else {\n",
        "                  return parseFloat(key_variable[0][datapoint]);\n",
        "              };\n",
        "          };\n",
        "\n",
        "          \n",
        "\n",
        "          var map = L.map('map').setView([46.8, 8.33], 7);\n",
        "\n",
        "          L.tileLayer('http://{s}.tiles.mapbox.com/v3/mapbox.world-bright/{z}/{x}/{y}.png', {\n",
        "              maxZoom: 18,\n",
        "              minZoom: 1,\n",
        "              attribution: 'Map tiles by <a href=&quot;http://www.mapbox.com/m&quot;>Mapbox</a> Data by <a href=&quot;http://openstreetmap.org&quot;>OpenStreetMap</a>, under <a href=&quot;http://creativecommons.org/licenses/by-sa/3.0&quot;>CC BY SA</a>.'\n",
        "          }).addTo(map);\n",
        "\n",
        "          \n",
        "\n",
        "          \n",
        "\n",
        "          \n",
        "\n",
        "          \n",
        "\n",
        "          \n",
        "\n",
        "          \n",
        "          function style_1(feature) {\n",
        "    return {\n",
        "        fillColor: 'blue',\n",
        "        weight: 1,\n",
        "        opacity: 1,\n",
        "        color: 'black',\n",
        "        fillOpacity: 0.6\n",
        "    };\n",
        "}\n",
        "          \n",
        "\n",
        "          \n",
        "          gJson_layer_1 = L.geoJson(gjson_1, {style: style_1}).addTo(map)\n",
        "          \n",
        "\n",
        "          \n",
        "\n",
        "      };\n",
        "\n",
        "   </script>\n",
        "</body>\" style=\"width: 100%; height: 510px; border: none\"></iframe>"
       ],
       "metadata": {},
       "output_type": "pyout",
       "prompt_number": 12,
       "text": [
        "<IPython.core.display.HTML at 0x7f941713fc90>"
       ]
      }
     ],
     "prompt_number": 12
    },
    {
     "cell_type": "heading",
     "level": 2,
     "metadata": {},
     "source": [
      "Import demographics data from a csv into a pandas data frame"
     ]
    },
    {
     "cell_type": "markdown",
     "metadata": {},
     "source": [
      "Read in some data for the canton's of Switzerland from a csv file. We will use display this data on the map we just created."
     ]
    },
    {
     "cell_type": "code",
     "collapsed": false,
     "input": [
      "import pandas as pd\n",
      "canton_overview = r'Switzerland_overview.csv'\n",
      "canton_data = pd.read_csv(canton_overview, encoding='utf-8')\n",
      "print canton_data"
     ],
     "language": "python",
     "metadata": {},
     "outputs": [
      {
       "output_type": "stream",
       "stream": "stdout",
       "text": [
        "   Abbr                  Canton       Capital  Population  Area  Density  \\\n",
        "0    ZH                  Z\u00fcrich        Z\u00fcrich     1421895  1729      701   \n",
        "1    BE                    Bern          Bern     1001281  5959      158   \n",
        "2    LU                  Luzern        Luzern      390349  1493      233   \n",
        "3    UR                     Uri       Altdorf       35865  1077       33   \n",
        "4    SZ                  Schwyz        Schwyz      151396   908      143   \n",
        "5    OW                Obwalden        Sarnen       36507   491       66   \n",
        "6    NW               Nidwalden         Stans       41888   276      138   \n",
        "7    GL                  Glarus        Glarus       39593   685       51   \n",
        "8    ZG                     Zug           Zug      118118   239      416   \n",
        "9    FR                Fribourg      Fribourg      297622  1671      141   \n",
        "10   SO               Solothurn     Solothurn      261437   790      308   \n",
        "11   BS             Basel-Stadt         Basel      195962    37     5072   \n",
        "12   BL        Basel-Landschaft       Liestal      281112   518      502   \n",
        "13   SH            Schaffhausen  Schaffhausen       78783   298      246   \n",
        "14   AR  Appenzell Ausserrhoden       Herisau       53691   243      220   \n",
        "15   AI   Appenzell Innerrhoden     Appenzell       15778   173       87   \n",
        "16   SG              St. Gallen    St. Gallen      491699  2026      222   \n",
        "17   GR              Graub\u00fcnden          Chur      194959  7105       26   \n",
        "18   AG                  Aargau         Aarau      636362  1404      388   \n",
        "19   TG                 Thurgau    Frauenfeld      260278   991      229   \n",
        "20   TI                  Ticino    Bellinzona      346539  2812      110   \n",
        "21   VD                    Vaud      Lausanne      749373  3212      188   \n",
        "22   VS                  Valais          Sion      327011  5224       53   \n",
        "23   NE               Neuch\u00e2tel     Neuch\u00e2tel      176402   803      206   \n",
        "24   GE                  Geneva        Geneva      479158   282     1442   \n",
        "25   JU                    Jura      Del\u00e9mont       71738   839       82   \n",
        "\n",
        "    Municipalities        Official languages  CantonNumber  \n",
        "0              171                    German             1  \n",
        "1              383            German, French             2  \n",
        "2               87                    German             3  \n",
        "3               20                    German             4  \n",
        "4               30                    German             5  \n",
        "5                7                    German             6  \n",
        "6               11                    German             7  \n",
        "7                3                    German             8  \n",
        "8               11                    German             9  \n",
        "9              167            French, German            10  \n",
        "10             122                    German            11  \n",
        "11               3                    German            12  \n",
        "12              86                    German            13  \n",
        "13              27                    German            14  \n",
        "14              20                    German            15  \n",
        "15               6                    German            16  \n",
        "16              85                    German            17  \n",
        "17             180  German, Romansh, Italian            18  \n",
        "18             220                    German            19  \n",
        "19              80                    German            20  \n",
        "20             157                   Italian            21  \n",
        "21             339                    French            22  \n",
        "22             143            French, German            23  \n",
        "23              53                    French            24  \n",
        "24              45                    French            25  \n",
        "25              64                    French            26  \n"
       ]
      }
     ],
     "prompt_number": 14
    },
    {
     "cell_type": "heading",
     "level": 2,
     "metadata": {},
     "source": [
      "Color code the cantons based on their population density"
     ]
    },
    {
     "cell_type": "markdown",
     "metadata": {},
     "source": [
      "The KANTONSNUM in the json file is used to ensure correct assignment of the data in the demographics data file.\n",
      "Try using the name of the cantons instead. What happens, and why? (Hint: open the geojson file and compare with the csv file.)"
     ]
    },
    {
     "cell_type": "code",
     "collapsed": false,
     "input": [
      "kanton_map2 = folium.Map(location=[46.8, 8.33], \n",
      "                    zoom_start=7.5)\n",
      "kanton_map2.geo_json(geo_path='switzerland.geojson', data=canton_data,\n",
      "             columns=['CantonNumber', 'Density'],\n",
      "             key_on='feature.properties.KANTONSNUM',\n",
      "             fill_color='BuPu')\n",
      "embed_map(kanton_map2)"
     ],
     "language": "python",
     "metadata": {},
     "outputs": [
      {
       "html": [
        "<iframe src=\"files/map.html\" style=\"width: 100%; height: 510px; border: none\"></iframe>"
       ],
       "metadata": {},
       "output_type": "pyout",
       "prompt_number": 6,
       "text": [
        "<IPython.core.display.HTML at 0x7fea2019d450>"
       ]
      }
     ],
     "prompt_number": 6
    }
   ],
   "metadata": {}
  }
 ]
}
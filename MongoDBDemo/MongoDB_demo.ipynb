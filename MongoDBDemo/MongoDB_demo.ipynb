{
 "metadata": {
  "name": "",
  "signature": "sha256:daee62f4fdeeadd785728080eef621547eddaa03388c89986cff3091ec42942d"
 },
 "nbformat": 3,
 "nbformat_minor": 0,
 "worksheets": [
  {
   "cells": [
    {
     "cell_type": "heading",
     "level": 1,
     "metadata": {},
     "source": [
      "Simple MongoDB demonstration"
     ]
    },
    {
     "cell_type": "markdown",
     "metadata": {},
     "source": [
      "by Rikard Sandstr\u00f6m, rsandstroem@kpmg.com"
     ]
    },
    {
     "cell_type": "markdown",
     "metadata": {},
     "source": [
      "First, import things we will need. Use pymongo to connect to the \"test\" database. Specify that we want to use the collection \"people\" in this database."
     ]
    },
    {
     "cell_type": "code",
     "collapsed": false,
     "input": [
      "import os\n",
      "import pandas as pd\n",
      "import numpy as np\n",
      "import pymongo\n",
      "from pymongo import MongoClient\n",
      "client = MongoClient('localhost', 27017)\n",
      "db = client.test\n",
      "collection = db.people"
     ],
     "language": "python",
     "metadata": {},
     "outputs": [],
     "prompt_number": 1
    },
    {
     "cell_type": "heading",
     "level": 2,
     "metadata": {},
     "source": [
      "Import data into the database"
     ]
    },
    {
     "cell_type": "markdown",
     "metadata": {},
     "source": [
      "Import data from a json file into the MongoDB database \"test\", collection \"people\". \n",
      "We can do this using the insert method, but for simplicity we execute a \"mongoimport\" in a shell environment, but first we drop the collection if it already exists."
     ]
    },
    {
     "cell_type": "code",
     "collapsed": false,
     "input": [
      "collection.drop()\n",
      "os.system('mongoimport -d test -c people dummyData.json')"
     ],
     "language": "python",
     "metadata": {},
     "outputs": [
      {
       "metadata": {},
       "output_type": "pyout",
       "prompt_number": 2,
       "text": [
        "0"
       ]
      }
     ],
     "prompt_number": 2
    },
    {
     "cell_type": "heading",
     "level": 2,
     "metadata": {},
     "source": [
      "Check if you can access the data from the MongoDB. "
     ]
    },
    {
     "cell_type": "markdown",
     "metadata": {},
     "source": [
      "We use find() to get a cursor to the documents in the data. Let's see who the three youngest persons in this data are. \n",
      "Sort the results by the field \"Age\", and print out the first three documents.\n",
      "Note the structure of documents, it is the same as the documents we imported from the json file, but it has unique values for the new \"_id\" field."
     ]
    },
    {
     "cell_type": "code",
     "collapsed": false,
     "input": [
      "cursor = collection.find().sort('Age',pymongo.ASCENDING).limit(3)\n",
      "for doc in cursor:\n",
      "    print doc"
     ],
     "language": "python",
     "metadata": {},
     "outputs": [
      {
       "output_type": "stream",
       "stream": "stdout",
       "text": [
        "{u'Country': u'Serbia', u'Age': 18.0, u'_id': ObjectId('555dbf53ca7a2eca5794e9aa'), u'Name': u'Sawyer, Neve M.', u'Location': u'-34.37446, 174.0838'}\n",
        "{u'Country': u'Somalia', u'Age': 19.0, u'_id': ObjectId('555dbf53ca7a2eca5794e96b'), u'Name': u'Townsend, Cadman I.', u'Location': u'-87.69188, -144.16138'}\n",
        "{u'Country': u'Eritrea', u'Age': 20.0, u'_id': ObjectId('555dbf53ca7a2eca5794e993'), u'Name': u'Graham, Emerald O.', u'Location': u'61.35398, 28.04381'}\n"
       ]
      }
     ],
     "prompt_number": 3
    },
    {
     "cell_type": "heading",
     "level": 2,
     "metadata": {},
     "source": [
      "Aggregation in MongoDB"
     ]
    },
    {
     "cell_type": "markdown",
     "metadata": {},
     "source": [
      "Here is a small demonstration of the aggregation framework. \n",
      "We want to create a table of the number of persons in each country and their average age.\n",
      "To do it we group by country.\n",
      "We extract the results from MongoDB aggregation into a pandas dataframe, and use the country as index."
     ]
    },
    {
     "cell_type": "code",
     "collapsed": false,
     "input": [
      "pipeline = [\n",
      "        {\"$group\": {\"_id\":\"$Country\",\n",
      "             \"AvgAge\":{\"$avg\":\"$Age\"},\n",
      "             \"Count\":{\"$sum\":1},\n",
      "        }},\n",
      "        {\"$sort\":{\"Count\":-1,\"AvgAge\":1}}\n",
      "]\n",
      "aggResult = collection.aggregate(pipeline)[\"result\"]\n",
      "df1 = pd.DataFrame(aggResult)\n",
      "df1 = df1.set_index(\"_id\")\n",
      "df1[:5]"
     ],
     "language": "python",
     "metadata": {},
     "outputs": [
      {
       "html": [
        "<div style=\"max-height:1000px;max-width:1500px;overflow:auto;\">\n",
        "<table border=\"1\" class=\"dataframe\">\n",
        "  <thead>\n",
        "    <tr style=\"text-align: right;\">\n",
        "      <th></th>\n",
        "      <th>AvgAge</th>\n",
        "      <th>Count</th>\n",
        "    </tr>\n",
        "    <tr>\n",
        "      <th>_id</th>\n",
        "      <th></th>\n",
        "      <th></th>\n",
        "    </tr>\n",
        "  </thead>\n",
        "  <tbody>\n",
        "    <tr>\n",
        "      <th>China</th>\n",
        "      <td>46.250000</td>\n",
        "      <td>4</td>\n",
        "    </tr>\n",
        "    <tr>\n",
        "      <th>Antarctica</th>\n",
        "      <td>46.333333</td>\n",
        "      <td>3</td>\n",
        "    </tr>\n",
        "    <tr>\n",
        "      <th>Guernsey</th>\n",
        "      <td>48.333333</td>\n",
        "      <td>3</td>\n",
        "    </tr>\n",
        "    <tr>\n",
        "      <th>Puerto Rico</th>\n",
        "      <td>26.500000</td>\n",
        "      <td>2</td>\n",
        "    </tr>\n",
        "    <tr>\n",
        "      <th>Heard Island and Mcdonald Islands</th>\n",
        "      <td>29.000000</td>\n",
        "      <td>2</td>\n",
        "    </tr>\n",
        "  </tbody>\n",
        "</table>\n",
        "</div>"
       ],
       "metadata": {},
       "output_type": "pyout",
       "prompt_number": 4,
       "text": [
        "                                      AvgAge  Count\n",
        "_id                                                \n",
        "China                              46.250000      4\n",
        "Antarctica                         46.333333      3\n",
        "Guernsey                           48.333333      3\n",
        "Puerto Rico                        26.500000      2\n",
        "Heard Island and Mcdonald Islands  29.000000      2"
       ]
      }
     ],
     "prompt_number": 4
    },
    {
     "cell_type": "markdown",
     "metadata": {},
     "source": [
      "For simple cases one can either use a cursor through find(\"search term\") or use the \"$match\" operator in the aggregation framework, like this:"
     ]
    },
    {
     "cell_type": "code",
     "collapsed": false,
     "input": [
      "pipeline = [\n",
      "        {\"$match\": {\"Country\":\"China\"}},\n",
      "]\n",
      "aggResult = collection.aggregate(pipeline)[\"result\"]\n",
      "df2 = pd.DataFrame(aggResult)\n",
      "df2[:5]"
     ],
     "language": "python",
     "metadata": {},
     "outputs": [
      {
       "html": [
        "<div style=\"max-height:1000px;max-width:1500px;overflow:auto;\">\n",
        "<table border=\"1\" class=\"dataframe\">\n",
        "  <thead>\n",
        "    <tr style=\"text-align: right;\">\n",
        "      <th></th>\n",
        "      <th>Age</th>\n",
        "      <th>Country</th>\n",
        "      <th>Location</th>\n",
        "      <th>Name</th>\n",
        "      <th>_id</th>\n",
        "    </tr>\n",
        "  </thead>\n",
        "  <tbody>\n",
        "    <tr>\n",
        "      <th>0</th>\n",
        "      <td>32</td>\n",
        "      <td>China</td>\n",
        "      <td>39.9127, 116.3833</td>\n",
        "      <td>Holman, Hasad O.</td>\n",
        "      <td>555dbf53ca7a2eca5794e968</td>\n",
        "    </tr>\n",
        "    <tr>\n",
        "      <th>1</th>\n",
        "      <td>43</td>\n",
        "      <td>China</td>\n",
        "      <td>31.2, 121.5</td>\n",
        "      <td>Byrd, Dante A.</td>\n",
        "      <td>555dbf53ca7a2eca5794e9a3</td>\n",
        "    </tr>\n",
        "    <tr>\n",
        "      <th>2</th>\n",
        "      <td>57</td>\n",
        "      <td>China</td>\n",
        "      <td>45.75, 126.6333</td>\n",
        "      <td>Carney, Tamekah I.</td>\n",
        "      <td>555dbf53ca7a2eca5794e9ac</td>\n",
        "    </tr>\n",
        "    <tr>\n",
        "      <th>3</th>\n",
        "      <td>53</td>\n",
        "      <td>China</td>\n",
        "      <td>40, 95</td>\n",
        "      <td>Mayer, Violet U.</td>\n",
        "      <td>555dbf53ca7a2eca5794e9b9</td>\n",
        "    </tr>\n",
        "  </tbody>\n",
        "</table>\n",
        "</div>"
       ],
       "metadata": {},
       "output_type": "pyout",
       "prompt_number": 5,
       "text": [
        "   Age Country           Location                Name  \\\n",
        "0   32   China  39.9127, 116.3833    Holman, Hasad O.   \n",
        "1   43   China        31.2, 121.5      Byrd, Dante A.   \n",
        "2   57   China    45.75, 126.6333  Carney, Tamekah I.   \n",
        "3   53   China             40, 95    Mayer, Violet U.   \n",
        "\n",
        "                        _id  \n",
        "0  555dbf53ca7a2eca5794e968  \n",
        "1  555dbf53ca7a2eca5794e9a3  \n",
        "2  555dbf53ca7a2eca5794e9ac  \n",
        "3  555dbf53ca7a2eca5794e9b9  "
       ]
      }
     ],
     "prompt_number": 5
    },
    {
     "cell_type": "heading",
     "level": 2,
     "metadata": {},
     "source": [
      "Use the MongoDB data"
     ]
    },
    {
     "cell_type": "markdown",
     "metadata": {},
     "source": [
      "Let's do something with the data from the last aggregation, put their location on a map.\n",
      "Click on the markers to find the personal details of the four persons located in China."
     ]
    },
    {
     "cell_type": "code",
     "collapsed": false,
     "input": [
      "from IPython.display import HTML\n",
      "import folium\n",
      "\n",
      "def inline_map(map):\n",
      "    map._build_map()\n",
      "    return HTML('<iframe srcdoc=\"{srcdoc}\" style=\"width: 100%; height: 510px; border: none\"></iframe>'.format(srcdoc=map.HTML.replace('\"', '&quot;')))\n",
      "\n",
      "\n",
      "world_map = folium.Map(location=[35, 100], \n",
      "                    zoom_start=4)\n",
      "for i in range(len(df2)):\n",
      "    world_map.simple_marker(location=df2.Location[i].split(','), popup=df2.Name[i]+', age:'+str(df2.Age[i]))\n",
      "\n",
      "inline_map(world_map)"
     ],
     "language": "python",
     "metadata": {},
     "outputs": [
      {
       "html": [
        "<iframe srcdoc=\"<!DOCTYPE html>\n",
        "<head>\n",
        "   <meta http-equiv=&quot;content-type&quot; content=&quot;text/html; charset=UTF-8&quot; />\n",
        "   <link rel=&quot;stylesheet&quot; href=&quot;//cdnjs.cloudflare.com/ajax/libs/leaflet/0.7.3/leaflet.css&quot; />\n",
        "   <script src=&quot;//cdnjs.cloudflare.com/ajax/libs/leaflet/0.7.3/leaflet.js&quot;></script>\n",
        "\n",
        "   <script src=&quot;//ajax.googleapis.com/ajax/libs/jquery/1.11.1/jquery.min.js&quot;></script>\n",
        "\n",
        "   <link rel=&quot;stylesheet&quot; href=&quot;//maxcdn.bootstrapcdn.com/bootstrap/3.2.0/css/bootstrap.min.css&quot;>\n",
        "   <link rel=&quot;stylesheet&quot; href=&quot;//maxcdn.bootstrapcdn.com/bootstrap/3.2.0/css/bootstrap-theme.min.css&quot;>\n",
        "   <script src=&quot;//maxcdn.bootstrapcdn.com/bootstrap/3.2.0/js/bootstrap.min.js&quot;></script>\n",
        "\n",
        "   <link href=&quot;//maxcdn.bootstrapcdn.com/font-awesome/4.1.0/css/font-awesome.min.css&quot; rel=&quot;stylesheet&quot;>\n",
        "\n",
        "   <link rel=&quot;stylesheet&quot; href=&quot;//rawgit.com/lvoogdt/Leaflet.awesome-markers/2.0/develop/dist/leaflet.awesome-markers.css&quot;>\n",
        "   <script src=&quot;//rawgithub.com/lvoogdt/Leaflet.awesome-markers/2.0/develop/dist/leaflet.awesome-markers.js&quot;></script>\n",
        "\n",
        "\n",
        "   <link rel=&quot;stylesheet&quot; href=&quot;//cdnjs.cloudflare.com/ajax/libs/leaflet.markercluster/0.4.0/MarkerCluster.Default.css&quot;>\n",
        "   <link rel=&quot;stylesheet&quot; href=&quot;//cdnjs.cloudflare.com/ajax/libs/leaflet.markercluster/0.4.0/MarkerCluster.css&quot;>\n",
        "   <script src=&quot;//cdnjs.cloudflare.com/ajax/libs/leaflet.markercluster/0.4.0/leaflet.markercluster-src.js&quot;></script>\n",
        "   <script src=&quot;//cdnjs.cloudflare.com/ajax/libs/leaflet.markercluster/0.4.0/leaflet.markercluster.js&quot;></script>\n",
        "\n",
        "   <link rel=&quot;stylesheet&quot; href=&quot;//birdage.github.io/Leaflet.awesome-markers/dist/leaflet.awesome.rotate.css&quot;>\n",
        "\n",
        "   \n",
        "   \n",
        "   \n",
        "   \n",
        "\n",
        "   <style>\n",
        "\n",
        "      html, body {\n",
        "        width: 100%;\n",
        "        height: 100%;\n",
        "        margin: 0;\n",
        "        padding: 0;\n",
        "      }\n",
        "\n",
        "      #map {\n",
        "        position:absolute;\n",
        "        top:0;\n",
        "        bottom:0;\n",
        "        right:0;\n",
        "        left:0;\n",
        "      }\n",
        "\n",
        "   </style>\n",
        "</head>\n",
        "\n",
        "<body>\n",
        "\n",
        "   <div class=&quot;folium-map&quot; id=&quot;folium_07c619e6bd98457796708b5da97765d9&quot; style=&quot;width: 960px; height: 500px&quot;></div>\n",
        "\n",
        "   <script>\n",
        "\n",
        "      \n",
        "\n",
        "      var base_tile = L.tileLayer('http://{s}.tile.openstreetmap.org/{z}/{x}/{y}.png', {\n",
        "          maxZoom: 18,\n",
        "          minZoom: 1,\n",
        "          attribution: 'Map data (c) <a href=&quot;http://openstreetmap.org&quot;>OpenStreetMap</a> contributors'\n",
        "      });\n",
        "\n",
        "      var baseLayer = {\n",
        "        &quot;Base Layer&quot;: base_tile\n",
        "      };\n",
        "\n",
        "      /*\n",
        "      addition of the wms layers\n",
        "      */\n",
        "\n",
        "      \n",
        "\n",
        "      /*\n",
        "      addition of the tile layers\n",
        "      */\n",
        "      \n",
        "\n",
        "      /*\n",
        "      list of layers to be added\n",
        "      */\n",
        "      var layer_list = {\n",
        "      \n",
        "      };\n",
        "\n",
        "      /*\n",
        "      Bounding box.\n",
        "      */\n",
        "      var southWest = L.latLng(-90, -180),\n",
        "          northEast = L.latLng(90, 180),\n",
        "          bounds = L.latLngBounds(southWest, northEast);\n",
        "\n",
        "      /*\n",
        "      Creates the map and adds the selected layers\n",
        "      */\n",
        "      var map = L.map('folium_07c619e6bd98457796708b5da97765d9', {\n",
        "                                       center:[35, 100],\n",
        "                                       zoom: 4,\n",
        "                                       maxBounds: bounds,\n",
        "                                       layers: [base_tile]\n",
        "                                     });\n",
        "\n",
        "      L.control.layers(baseLayer, layer_list).addTo(map);\n",
        "\n",
        "      //cluster group\n",
        "      var clusteredmarkers = L.markerClusterGroup();\n",
        "      //section for adding clustered markers\n",
        "      \n",
        "      //add the clustered markers to the group anyway\n",
        "      map.addLayer(clusteredmarkers);\n",
        "\n",
        "      \n",
        "      var marker_1_icon = L.AwesomeMarkers.icon({ icon: 'info-sign',markerColor: 'blue',prefix: 'glyphicon',extraClasses: 'fa-rotate-0'});\n",
        "      var marker_1 = L.marker([39.9127, \n",
        "\t\t\t\t\t\t\t 116.3833],\n",
        "\t\t\t\t\t\t\t{'icon':marker_1_icon}\n",
        "\t\t\t\t\t\t\t);\n",
        "      marker_1.bindPopup(&quot;Holman, Hasad O., age:32.0&quot;);\n",
        "      marker_1._popup.options.maxWidth = 300;\n",
        "      map.addLayer(marker_1)\n",
        "      \n",
        "      var marker_2_icon = L.AwesomeMarkers.icon({ icon: 'info-sign',markerColor: 'blue',prefix: 'glyphicon',extraClasses: 'fa-rotate-0'});\n",
        "      var marker_2 = L.marker([31.2, \n",
        "\t\t\t\t\t\t\t 121.5],\n",
        "\t\t\t\t\t\t\t{'icon':marker_2_icon}\n",
        "\t\t\t\t\t\t\t);\n",
        "      marker_2.bindPopup(&quot;Byrd, Dante A., age:43.0&quot;);\n",
        "      marker_2._popup.options.maxWidth = 300;\n",
        "      map.addLayer(marker_2)\n",
        "      \n",
        "      var marker_3_icon = L.AwesomeMarkers.icon({ icon: 'info-sign',markerColor: 'blue',prefix: 'glyphicon',extraClasses: 'fa-rotate-0'});\n",
        "      var marker_3 = L.marker([45.75, \n",
        "\t\t\t\t\t\t\t 126.6333],\n",
        "\t\t\t\t\t\t\t{'icon':marker_3_icon}\n",
        "\t\t\t\t\t\t\t);\n",
        "      marker_3.bindPopup(&quot;Carney, Tamekah I., age:57.0&quot;);\n",
        "      marker_3._popup.options.maxWidth = 300;\n",
        "      map.addLayer(marker_3)\n",
        "      \n",
        "      var marker_4_icon = L.AwesomeMarkers.icon({ icon: 'info-sign',markerColor: 'blue',prefix: 'glyphicon',extraClasses: 'fa-rotate-0'});\n",
        "      var marker_4 = L.marker([40, \n",
        "\t\t\t\t\t\t\t 95],\n",
        "\t\t\t\t\t\t\t{'icon':marker_4_icon}\n",
        "\t\t\t\t\t\t\t);\n",
        "      marker_4.bindPopup(&quot;Mayer, Violet U., age:53.0&quot;);\n",
        "      marker_4._popup.options.maxWidth = 300;\n",
        "      map.addLayer(marker_4)\n",
        "      \n",
        "\n",
        "      \n",
        "\n",
        "      \n",
        "\n",
        "      \n",
        "\n",
        "      \n",
        "\n",
        "      \n",
        "\n",
        "   </script>\n",
        "\n",
        "</body>\" style=\"width: 100%; height: 510px; border: none\"></iframe>"
       ],
       "metadata": {},
       "output_type": "pyout",
       "prompt_number": 6,
       "text": [
        "<IPython.core.display.HTML at 0x7ff5b2956310>"
       ]
      }
     ],
     "prompt_number": 6
    },
    {
     "cell_type": "markdown",
     "metadata": {},
     "source": [
      "For more information on how to use maps, color by region etc, please check out GeoMapsFoliumDemo"
     ]
    }
   ],
   "metadata": {}
  }
 ]
}
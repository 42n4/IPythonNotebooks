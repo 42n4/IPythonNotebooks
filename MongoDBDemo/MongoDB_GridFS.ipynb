{
 "cells": [
  {
   "cell_type": "markdown",
   "metadata": {},
   "source": [
    "# MongoDB GridFS demonstration"
   ]
  },
  {
   "cell_type": "markdown",
   "metadata": {},
   "source": [
    "by Dr. Rikard Sandström, rsandstroem@kpmg.com"
   ]
  },
  {
   "cell_type": "markdown",
   "metadata": {},
   "source": [
    "If you have not done so already, I recommend that you first look at \"MongoDB_demo.ipynb\" in this repository. It explains the basics in MongoDB and introduces pymongo.\n",
    "\n",
    "This demonstration shows how to use GridFS for storing large files in MongoDB. MongoDB has a document size limit of a few MB. GridFS circumvents this by splitting the file in smaller chunks. I find it convenient for storing binary data such as images and video. For more information please see https://docs.mongodb.org/manual/core/gridfs/\n",
    "\n",
    "The demonstration stores a scanned pdf in GridFS, then extracts text from the pdf and adds that as another \"column\" of the same collection. This allows retrieval of pdf's whos content match user defined search terms. This use case was brought to life by my frustration over searching through piles of papers when filling out my tax returns."
   ]
  },
  {
   "cell_type": "markdown",
   "metadata": {},
   "source": [
    "## Create a MongoClient"
   ]
  },
  {
   "cell_type": "markdown",
   "metadata": {},
   "source": [
    "First, import things we will need. Use pymongo to connect to the \"test\" database on port 27017 of the local machine."
   ]
  },
  {
   "cell_type": "code",
   "execution_count": 1,
   "metadata": {
    "collapsed": false
   },
   "outputs": [],
   "source": [
    "import os\n",
    "import pandas as pd\n",
    "import numpy as np\n",
    "import pymongo\n",
    "from pymongo import MongoClient\n",
    "import bson\n",
    "import gridfs\n",
    "client = MongoClient('localhost', 27017)\n",
    "db = client.test"
   ]
  },
  {
   "cell_type": "markdown",
   "metadata": {},
   "source": [
    "## Create a GridFS"
   ]
  },
  {
   "cell_type": "markdown",
   "metadata": {},
   "source": [
    "To start from a clean slate, begin by dropping the collections GridFS might have created earlier. GridFS creates a \"files\" collection, containing meta data, and the chunks of the large file."
   ]
  },
  {
   "cell_type": "code",
   "execution_count": 2,
   "metadata": {
    "collapsed": false
   },
   "outputs": [],
   "source": [
    "db.drop_collection('fs.files')\n",
    "db.drop_collection('fs.chunks')\n",
    "fs = gridfs.GridFS(db)"
   ]
  },
  {
   "cell_type": "markdown",
   "metadata": {},
   "source": [
    "## Hello World"
   ]
  },
  {
   "cell_type": "markdown",
   "metadata": {},
   "source": [
    "Let's insert an object and see if we can retrieve it. The object in this case is just a string containing \"Hello World\". Add some additional free text description called \"text\"."
   ]
  },
  {
   "cell_type": "code",
   "execution_count": 3,
   "metadata": {
    "collapsed": false
   },
   "outputs": [
    {
     "name": "stdout",
     "output_type": "stream",
     "text": [
      "put returned:\t56fbec4db143765a0bddfc61\n",
      "database contains:\tHello World\n"
     ]
    }
   ],
   "source": [
    "a = fs.put(\"Hello World\", text='I am a tiny document')\n",
    "print 'put returned:\\t', a\n",
    "print 'database contains:\\t', fs.get(a).read()"
   ]
  },
  {
   "cell_type": "markdown",
   "metadata": {},
   "source": [
    "## Extract text from a scanned PDF file"
   ]
  },
  {
   "cell_type": "markdown",
   "metadata": {},
   "source": [
    "Let's try something more complex. \"scansmpl.pdf\" is a free sample of a scanned pdf file containing text in image format. For pdf files already containing text in text format we can just grab the text with pdftotext. If this does not work we need to run and OCR to optically reconstruct characters from the image, which is much slower. \n",
    "\n",
    "Todo: use better OCR software, preferably without dropping to system."
   ]
  },
  {
   "cell_type": "code",
   "execution_count": null,
   "metadata": {
    "collapsed": false
   },
   "outputs": [],
   "source": [
    "filename = 'scansmpl.pdf'\n",
    "os.system('pdftotext ' + filename + ' temp.txt')\n",
    "text = open('temp.txt').read()\n",
    "if len(text)<2: # No text found, so we need to do an OCR \n",
    "    os.system('ocrmypdf ' + filename + ' ocr.pdf')\n",
    "    os.system('pdftotext ocr.pdf temp.txt')\n",
    "    text = open('temp.txt').read()\n",
    "print 'Text consists of', len(text), 'words'"
   ]
  },
  {
   "cell_type": "markdown",
   "metadata": {},
   "source": [
    "## Insert the document to the data base"
   ]
  },
  {
   "cell_type": "markdown",
   "metadata": {},
   "source": [
    "First convert the pdf to binary format. The insert the binary version of the original file into mongo together with the text extraction we did in the previous step and the file name."
   ]
  },
  {
   "cell_type": "code",
   "execution_count": null,
   "metadata": {
    "collapsed": false
   },
   "outputs": [],
   "source": [
    "data = bson.Binary(open(filename).read())\n",
    "fs.put(filename=filename, data=data, text=text)"
   ]
  },
  {
   "cell_type": "markdown",
   "metadata": {},
   "source": [
    "## Inspect data base contents"
   ]
  },
  {
   "cell_type": "markdown",
   "metadata": {},
   "source": [
    "Use command list() to get an array of files that were inserted. There should only be one file at this point, but if you inserted it multiple times it would not repeat in the array, so let's count replicas just to be sure."
   ]
  },
  {
   "cell_type": "code",
   "execution_count": null,
   "metadata": {
    "collapsed": false
   },
   "outputs": [],
   "source": [
    "print fs.list()\n",
    "print fs.find({\"filename\" : \"scansmpl.pdf\"}).count()"
   ]
  },
  {
   "cell_type": "markdown",
   "metadata": {},
   "source": [
    "Remember that the meta data was stored in fs.files? You can see what each document contains using this collection, like shown below. The \"_id\" links to the inserted object in fs.chunks. Very convenient!"
   ]
  },
  {
   "cell_type": "code",
   "execution_count": null,
   "metadata": {
    "collapsed": false
   },
   "outputs": [],
   "source": [
    "list(db.fs.files.find())"
   ]
  },
  {
   "cell_type": "markdown",
   "metadata": {},
   "source": [
    "## Search database for a file"
   ]
  },
  {
   "cell_type": "markdown",
   "metadata": {},
   "source": [
    "Suppose you want to get your hands on all documents with a specific filename. Just do a standard find() on the MongoDB, the do whatever you want with the documents (here I print the upload date)."
   ]
  },
  {
   "cell_type": "code",
   "execution_count": null,
   "metadata": {
    "collapsed": false
   },
   "outputs": [],
   "source": [
    "cursor = fs.find({\"filename\" : \"scansmpl.pdf\"}).limit(3)\n",
    "print \"Found\", cursor.count(), \"documents\"\n",
    "for doc in cursor:\n",
    "    print doc.uploadDate"
   ]
  },
  {
   "cell_type": "markdown",
   "metadata": {},
   "source": [
    "If you are only interested in the last version you could retrieve it like this:"
   ]
  },
  {
   "cell_type": "code",
   "execution_count": null,
   "metadata": {
    "collapsed": false
   },
   "outputs": [],
   "source": [
    "print fs.get_last_version(\"scansmpl.pdf\").uploadDate"
   ]
  },
  {
   "cell_type": "markdown",
   "metadata": {},
   "source": [
    "The purpose of extracting the text from the scanned pdf earlier was to enable searching matching substrings to retrieve documents. To do this we need to create an index of the text field. I have yet to figure out how to do this with pymongo, but in the mongo shell this is just one short line (see comment below)."
   ]
  },
  {
   "cell_type": "code",
   "execution_count": null,
   "metadata": {
    "collapsed": false
   },
   "outputs": [],
   "source": [
    "#db.fs.files.createIndex({ \"text\": \"text\" } ) # need to implement this in pymongo, works in mongo shell\n",
    "founddocs = fs.find({\"$text\": { \"$search\": \"Cundall\" }})\n",
    "print founddocs.count()"
   ]
  },
  {
   "cell_type": "markdown",
   "metadata": {},
   "source": [
    "## Write the found documents to disk"
   ]
  },
  {
   "cell_type": "code",
   "execution_count": null,
   "metadata": {
    "collapsed": false
   },
   "outputs": [],
   "source": [
    "for i,doc in enumerate(founddocs):\n",
    "    with open(doc.filename+'_'+str(i), 'w') as f:\n",
    "      f.write(fs.get(doc._id).read())"
   ]
  },
  {
   "cell_type": "markdown",
   "metadata": {},
   "source": [
    "You should now have the original file(s) matching the search terms with a counter suffix in the local folder."
   ]
  },
  {
   "cell_type": "code",
   "execution_count": null,
   "metadata": {
    "collapsed": true
   },
   "outputs": [],
   "source": []
  }
 ],
 "metadata": {
  "kernelspec": {
   "display_name": "Python 2",
   "language": "python",
   "name": "python2"
  },
  "language_info": {
   "codemirror_mode": {
    "name": "ipython",
    "version": 2
   },
   "file_extension": ".py",
   "mimetype": "text/x-python",
   "name": "python",
   "nbconvert_exporter": "python",
   "pygments_lexer": "ipython2",
   "version": "2.7.11"
  }
 },
 "nbformat": 4,
 "nbformat_minor": 0
}
